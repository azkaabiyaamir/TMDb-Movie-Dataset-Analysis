{
 "cells": [
  {
   "cell_type": "markdown",
   "metadata": {},
   "source": [
    "\n",
    "# Project: Insignts into the production of a profitable & engaging movie.\n",
    "\n",
    "## Table of Contents\n",
    "<ul>\n",
    "    \n",
    "<li><a href=\"#intro\">Introduction</a></li>\n",
    "<li><a href=\"#wrangling\">Data Wrangling</a></li>\n",
    "<li><a href=\"#eda\">Exploratory Data Analysis</a></li>\n",
    "<li><a href=\"#conclusions\">Conclusions</a></li>\n",
    "</ul>"
   ]
  },
  {
   "cell_type": "markdown",
   "metadata": {},
   "source": [
    "<a id='intro'></a>\n",
    "## Introduction\n",
    "\n",
    "This project resolves around investigating and exploring TMDb movie dataset in hopes of answering some interesting research questions.\n",
    "\n",
    "#### Research Questions \n",
    "<ul>\n",
    "<li> What are the characteristics of a successful movies.</li>\n",
    "<li> How has the budget trend changed over time in the creation of successful movies  </li>\n",
    "<li> How is the voting participaction from viewers has changed over the years  </li>\n",
    "<li> Which year has the highest release of movies?</li>\n",
    "</ul>"
   ]
  },
  {
   "cell_type": "code",
   "execution_count": 1,
   "metadata": {},
   "outputs": [],
   "source": [
    "import pandas as pd\n",
    "import matplotlib.pyplot as plt\n",
    "import numpy as np\n",
    "% matplotlib inline"
   ]
  },
  {
   "cell_type": "markdown",
   "metadata": {},
   "source": [
    "<a id='wrangling'></a>\n",
    "## Data Wrangling\n",
    "\n",
    "<ul>\n",
    "<li><a href=\"#gp\"> Data inspection</a></li>\n",
    "<li><a href=\"#dc\">Data Processing</a></li>\n",
    "\n",
    "</ul>\n",
    "\n",
    "<a id='gp'></a>\n",
    "### Data inspection"
   ]
  },
  {
   "cell_type": "code",
   "execution_count": 2,
   "metadata": {},
   "outputs": [
    {
     "data": {
      "text/html": [
       "<div>\n",
       "<style scoped>\n",
       "    .dataframe tbody tr th:only-of-type {\n",
       "        vertical-align: middle;\n",
       "    }\n",
       "\n",
       "    .dataframe tbody tr th {\n",
       "        vertical-align: top;\n",
       "    }\n",
       "\n",
       "    .dataframe thead th {\n",
       "        text-align: right;\n",
       "    }\n",
       "</style>\n",
       "<table border=\"1\" class=\"dataframe\">\n",
       "  <thead>\n",
       "    <tr style=\"text-align: right;\">\n",
       "      <th></th>\n",
       "      <th>id</th>\n",
       "      <th>imdb_id</th>\n",
       "      <th>popularity</th>\n",
       "      <th>budget</th>\n",
       "      <th>revenue</th>\n",
       "      <th>original_title</th>\n",
       "      <th>cast</th>\n",
       "      <th>homepage</th>\n",
       "      <th>director</th>\n",
       "      <th>tagline</th>\n",
       "      <th>...</th>\n",
       "      <th>overview</th>\n",
       "      <th>runtime</th>\n",
       "      <th>genres</th>\n",
       "      <th>production_companies</th>\n",
       "      <th>release_date</th>\n",
       "      <th>vote_count</th>\n",
       "      <th>vote_average</th>\n",
       "      <th>release_year</th>\n",
       "      <th>budget_adj</th>\n",
       "      <th>revenue_adj</th>\n",
       "    </tr>\n",
       "  </thead>\n",
       "  <tbody>\n",
       "    <tr>\n",
       "      <th>0</th>\n",
       "      <td>135397</td>\n",
       "      <td>tt0369610</td>\n",
       "      <td>32.985763</td>\n",
       "      <td>150000000</td>\n",
       "      <td>1513528810</td>\n",
       "      <td>Jurassic World</td>\n",
       "      <td>Chris Pratt|Bryce Dallas Howard|Irrfan Khan|Vi...</td>\n",
       "      <td>http://www.jurassicworld.com/</td>\n",
       "      <td>Colin Trevorrow</td>\n",
       "      <td>The park is open.</td>\n",
       "      <td>...</td>\n",
       "      <td>Twenty-two years after the events of Jurassic ...</td>\n",
       "      <td>124</td>\n",
       "      <td>Action|Adventure|Science Fiction|Thriller</td>\n",
       "      <td>Universal Studios|Amblin Entertainment|Legenda...</td>\n",
       "      <td>6/9/15</td>\n",
       "      <td>5562</td>\n",
       "      <td>6.5</td>\n",
       "      <td>2015</td>\n",
       "      <td>1.379999e+08</td>\n",
       "      <td>1.392446e+09</td>\n",
       "    </tr>\n",
       "  </tbody>\n",
       "</table>\n",
       "<p>1 rows × 21 columns</p>\n",
       "</div>"
      ],
      "text/plain": [
       "       id    imdb_id  popularity     budget     revenue  original_title  \\\n",
       "0  135397  tt0369610   32.985763  150000000  1513528810  Jurassic World   \n",
       "\n",
       "                                                cast  \\\n",
       "0  Chris Pratt|Bryce Dallas Howard|Irrfan Khan|Vi...   \n",
       "\n",
       "                        homepage         director            tagline  \\\n",
       "0  http://www.jurassicworld.com/  Colin Trevorrow  The park is open.   \n",
       "\n",
       "       ...                                                overview runtime  \\\n",
       "0      ...       Twenty-two years after the events of Jurassic ...     124   \n",
       "\n",
       "                                      genres  \\\n",
       "0  Action|Adventure|Science Fiction|Thriller   \n",
       "\n",
       "                                production_companies release_date vote_count  \\\n",
       "0  Universal Studios|Amblin Entertainment|Legenda...       6/9/15       5562   \n",
       "\n",
       "   vote_average  release_year    budget_adj   revenue_adj  \n",
       "0           6.5          2015  1.379999e+08  1.392446e+09  \n",
       "\n",
       "[1 rows x 21 columns]"
      ]
     },
     "execution_count": 2,
     "metadata": {},
     "output_type": "execute_result"
    }
   ],
   "source": [
    "#Reading data\n",
    "df = pd.read_csv('tmdb-movies.csv.crdownload')\n",
    "\n",
    "#Diaplay the first line of the dataframe.\n",
    "df.head(1)"
   ]
  },
  {
   "cell_type": "code",
   "execution_count": 3,
   "metadata": {},
   "outputs": [
    {
     "data": {
      "text/plain": [
       "(10866, 21)"
      ]
     },
     "execution_count": 3,
     "metadata": {},
     "output_type": "execute_result"
    }
   ],
   "source": [
    "# number of rows and columns in the dataframe\n",
    "df.shape"
   ]
  },
  {
   "cell_type": "code",
   "execution_count": 4,
   "metadata": {},
   "outputs": [
    {
     "name": "stdout",
     "output_type": "stream",
     "text": [
      "<class 'pandas.core.frame.DataFrame'>\n",
      "RangeIndex: 10866 entries, 0 to 10865\n",
      "Data columns (total 21 columns):\n",
      "id                      10866 non-null int64\n",
      "imdb_id                 10856 non-null object\n",
      "popularity              10866 non-null float64\n",
      "budget                  10866 non-null int64\n",
      "revenue                 10866 non-null int64\n",
      "original_title          10866 non-null object\n",
      "cast                    10790 non-null object\n",
      "homepage                2936 non-null object\n",
      "director                10822 non-null object\n",
      "tagline                 8042 non-null object\n",
      "keywords                9373 non-null object\n",
      "overview                10862 non-null object\n",
      "runtime                 10866 non-null int64\n",
      "genres                  10843 non-null object\n",
      "production_companies    9836 non-null object\n",
      "release_date            10866 non-null object\n",
      "vote_count              10866 non-null int64\n",
      "vote_average            10866 non-null float64\n",
      "release_year            10866 non-null int64\n",
      "budget_adj              10866 non-null float64\n",
      "revenue_adj             10866 non-null float64\n",
      "dtypes: float64(4), int64(6), object(11)\n",
      "memory usage: 1.7+ MB\n"
     ]
    }
   ],
   "source": [
    "# Count of non-null values for each column and its datatype.\n",
    "df.info()"
   ]
  },
  {
   "cell_type": "code",
   "execution_count": 5,
   "metadata": {},
   "outputs": [
    {
     "data": {
      "text/plain": [
       "1"
      ]
     },
     "execution_count": 5,
     "metadata": {},
     "output_type": "execute_result"
    }
   ],
   "source": [
    "#Checking for duplicates.\n",
    "df.duplicated().sum()"
   ]
  },
  {
   "cell_type": "code",
   "execution_count": 6,
   "metadata": {},
   "outputs": [
    {
     "data": {
      "text/plain": [
       "id                         0\n",
       "imdb_id                   10\n",
       "popularity                 0\n",
       "budget                     0\n",
       "revenue                    0\n",
       "original_title             0\n",
       "cast                      76\n",
       "homepage                7930\n",
       "director                  44\n",
       "tagline                 2824\n",
       "keywords                1493\n",
       "overview                   4\n",
       "runtime                    0\n",
       "genres                    23\n",
       "production_companies    1030\n",
       "release_date               0\n",
       "vote_count                 0\n",
       "vote_average               0\n",
       "release_year               0\n",
       "budget_adj                 0\n",
       "revenue_adj                0\n",
       "dtype: int64"
      ]
     },
     "execution_count": 6,
     "metadata": {},
     "output_type": "execute_result"
    }
   ],
   "source": [
    "#Checking for counts of missing values.\n",
    "df.isna().sum()"
   ]
  },
  {
   "cell_type": "code",
   "execution_count": 7,
   "metadata": {},
   "outputs": [
    {
     "data": {
      "text/plain": [
       "id                      10865\n",
       "imdb_id                 10855\n",
       "popularity              10814\n",
       "budget                    557\n",
       "revenue                  4702\n",
       "original_title          10571\n",
       "cast                    10719\n",
       "homepage                 2896\n",
       "director                 5067\n",
       "tagline                  7997\n",
       "keywords                 8804\n",
       "overview                10847\n",
       "runtime                   247\n",
       "genres                   2039\n",
       "production_companies     7445\n",
       "release_date             5909\n",
       "vote_count               1289\n",
       "vote_average               72\n",
       "release_year               56\n",
       "budget_adj               2614\n",
       "revenue_adj              4840\n",
       "dtype: int64"
      ]
     },
     "execution_count": 7,
     "metadata": {},
     "output_type": "execute_result"
    }
   ],
   "source": [
    "#Checking the unique value counts.\n",
    "df.nunique()"
   ]
  },
  {
   "cell_type": "code",
   "execution_count": 8,
   "metadata": {},
   "outputs": [
    {
     "data": {
      "text/plain": [
       "False    10571\n",
       "True       295\n",
       "Name: original_title, dtype: int64"
      ]
     },
     "execution_count": 8,
     "metadata": {},
     "output_type": "execute_result"
    }
   ],
   "source": [
    "#Checking for the count of duplicated movie titles.\n",
    "df['original_title'].duplicated().value_counts()"
   ]
  },
  {
   "cell_type": "code",
   "execution_count": 9,
   "metadata": {},
   "outputs": [
    {
     "data": {
      "text/plain": [
       "str"
      ]
     },
     "execution_count": 9,
     "metadata": {},
     "output_type": "execute_result"
    }
   ],
   "source": [
    "#checking datatype\n",
    "type(df['genres'][0])"
   ]
  },
  {
   "cell_type": "code",
   "execution_count": 10,
   "metadata": {},
   "outputs": [
    {
     "data": {
      "text/plain": [
       "Drama                                              712\n",
       "Comedy                                             712\n",
       "Documentary                                        312\n",
       "Drama|Romance                                      289\n",
       "Comedy|Drama                                       280\n",
       "Comedy|Romance                                     268\n",
       "Horror|Thriller                                    259\n",
       "Horror                                             253\n",
       "Comedy|Drama|Romance                               222\n",
       "Drama|Thriller                                     138\n",
       "Comedy|Family                                      102\n",
       "Action|Thriller                                    101\n",
       "Thriller                                            93\n",
       "Drama|Comedy                                        92\n",
       "Animation|Family                                    90\n",
       "Crime|Drama|Thriller                                81\n",
       "Crime|Drama                                         74\n",
       "Comedy|Horror                                       72\n",
       "Drama|Comedy|Romance                                64\n",
       "Action                                              63\n",
       "Action|Comedy                                       62\n",
       "Drama|History                                       58\n",
       "Action|Crime|Drama|Thriller                         54\n",
       "Drama|Horror|Thriller                               53\n",
       "Action|Crime|Thriller                               52\n",
       "Horror|Science Fiction                              52\n",
       "Horror|Mystery|Thriller                             51\n",
       "Comedy|Crime                                        50\n",
       "Documentary|Music                                   49\n",
       "Drama|Music                                         49\n",
       "                                                  ... \n",
       "Romance|Animation|Family|Comedy|Adventure            1\n",
       "Drama|Family|Foreign                                 1\n",
       "Mystery|Drama|Science Fiction|Thriller               1\n",
       "Action|Thriller|Adventure|Science Fiction            1\n",
       "Drama|History|Thriller|Science Fiction               1\n",
       "Action|Adventure|Drama|War|Romance                   1\n",
       "Thriller|Science Fiction|Drama                       1\n",
       "Adventure|Action|Thriller|Foreign                    1\n",
       "Horror|Documentary                                   1\n",
       "TV Movie|Comedy|Family|Romance                       1\n",
       "Family|Fantasy|Comedy                                1\n",
       "Thriller|Drama|Adventure|Action|History              1\n",
       "Adventure|Family|Fantasy|Comedy|Romance              1\n",
       "Science Fiction|Action|Adventure|Animation           1\n",
       "Adventure|Action|Comedy|Science Fiction|Music        1\n",
       "Science Fiction|Fantasy|Action|Adventure             1\n",
       "Drama|Comedy|History|Music                           1\n",
       "Fantasy|Comedy|Science Fiction|Romance|Thriller      1\n",
       "Drama|Music|Mystery|Romance                          1\n",
       "Crime|Comedy|Action|Adventure                        1\n",
       "Adventure|Comedy|History|Romance                     1\n",
       "Science Fiction|Drama|Romance|Fantasy                1\n",
       "Action|Comedy|Thriller|Crime|Mystery                 1\n",
       "Animation|Adventure|Action|Comedy                    1\n",
       "Adventure|Fantasy|Family|Mystery                     1\n",
       "Fantasy|Music|Romance                                1\n",
       "Fantasy|Adventure|Comedy|Family                      1\n",
       "Drama|Horror|Fantasy                                 1\n",
       "Drama|Comedy|Science Fiction|Romance                 1\n",
       "Science Fiction|Drama|Fantasy|Romance                1\n",
       "Name: genres, Length: 2039, dtype: int64"
      ]
     },
     "execution_count": 10,
     "metadata": {},
     "output_type": "execute_result"
    }
   ],
   "source": [
    "#checking the value counts of all available genres.\n",
    "df['genres'].value_counts()"
   ]
  },
  {
   "cell_type": "markdown",
   "metadata": {},
   "source": [
    "#### Findings\n",
    "<ul>\n",
    "\n",
    "<li>Sufficient dataset size.</li>\n",
    "<li>Numerous useless attributes.</li>\n",
    "<li>Dataset not cleaned. Dataframe has null values, duplicated values. </li>\n",
    "<li>The format of the data is not processible eg. multiple genres are assigned per movie.</li>\n",
    "</ul>"
   ]
  },
  {
   "cell_type": "markdown",
   "metadata": {},
   "source": [
    "\n",
    "<a id='dc'></a>\n",
    "### Data Preprocessing\n"
   ]
  },
  {
   "cell_type": "markdown",
   "metadata": {},
   "source": [
    "Cleaning of the dataframe is needed to perform statistical analysis and data visualization."
   ]
  },
  {
   "cell_type": "markdown",
   "metadata": {},
   "source": [
    "#### Cleaning"
   ]
  },
  {
   "cell_type": "code",
   "execution_count": 11,
   "metadata": {},
   "outputs": [
    {
     "data": {
      "text/plain": [
       "0"
      ]
     },
     "execution_count": 11,
     "metadata": {},
     "output_type": "execute_result"
    }
   ],
   "source": [
    "#Dropping all duplicates from the dataframe.\n",
    "df = df.drop_duplicates()\n",
    "#Checking to make sure all duplicates were dropped from the dataframe.\n",
    "df.duplicated().sum()"
   ]
  },
  {
   "cell_type": "code",
   "execution_count": 12,
   "metadata": {},
   "outputs": [
    {
     "data": {
      "text/plain": [
       "id                      0\n",
       "imdb_id                 0\n",
       "popularity              0\n",
       "budget                  0\n",
       "revenue                 0\n",
       "original_title          0\n",
       "cast                    0\n",
       "homepage                0\n",
       "director                0\n",
       "tagline                 0\n",
       "keywords                0\n",
       "overview                0\n",
       "runtime                 0\n",
       "genres                  0\n",
       "production_companies    0\n",
       "release_date            0\n",
       "vote_count              0\n",
       "vote_average            0\n",
       "release_year            0\n",
       "budget_adj              0\n",
       "revenue_adj             0\n",
       "dtype: int64"
      ]
     },
     "execution_count": 12,
     "metadata": {},
     "output_type": "execute_result"
    }
   ],
   "source": [
    "#Filling the null values\n",
    "df = df.fillna('nan')\n",
    "#Checking to make sure all null values were replaced by 'nan'\n",
    "df.isna().sum()"
   ]
  },
  {
   "cell_type": "code",
   "execution_count": 13,
   "metadata": {},
   "outputs": [
    {
     "data": {
      "text/plain": [
       "(10865, 21)"
      ]
     },
     "execution_count": 13,
     "metadata": {},
     "output_type": "execute_result"
    }
   ],
   "source": [
    "#Checking the number of rows and coloums in the dataframe.\n",
    "df.shape"
   ]
  },
  {
   "cell_type": "markdown",
   "metadata": {},
   "source": [
    "#### Formatting"
   ]
  },
  {
   "cell_type": "code",
   "execution_count": 14,
   "metadata": {},
   "outputs": [
    {
     "data": {
      "text/plain": [
       "str"
      ]
     },
     "execution_count": 14,
     "metadata": {},
     "output_type": "execute_result"
    }
   ],
   "source": [
    "#Checking data type for 'genres'.\n",
    "type(df['genres'][0])"
   ]
  },
  {
   "cell_type": "code",
   "execution_count": 15,
   "metadata": {},
   "outputs": [
    {
     "data": {
      "text/plain": [
       "['Action',\n",
       " 'Adventure',\n",
       " 'Science Fiction',\n",
       " 'Thriller',\n",
       " 'Fantasy',\n",
       " 'Crime',\n",
       " 'Western',\n",
       " 'Drama',\n",
       " 'Family',\n",
       " 'Animation',\n",
       " 'Comedy',\n",
       " 'Mystery',\n",
       " 'Romance',\n",
       " 'War',\n",
       " 'History',\n",
       " 'Music',\n",
       " 'Horror',\n",
       " 'Documentary',\n",
       " 'TV Movie',\n",
       " 'Foreign']"
      ]
     },
     "execution_count": 15,
     "metadata": {},
     "output_type": "execute_result"
    }
   ],
   "source": [
    "\"\"\"\n",
    "Multiple genres were assigned to numerous movies. The format of the genres hindered any analysis thus \n",
    "preprocessing to change the format of genre is needed.\n",
    "\"\"\"\n",
    "\n",
    "\n",
    "#Extracting all available genres from df that has multiple genres per movie.\n",
    "\n",
    "# Extracting the genres of all available movies.\n",
    "genres_in_df = df.loc[:,'genres']\n",
    "\n",
    "# Concatenating all extracted genres from the dataframe into a single string delimated by a pipe.\n",
    "genres_string = ''\n",
    "for i in genres_in_df:\n",
    "    genres_string = genres_string + '|'+str(i)\n",
    "    \n",
    "#Extracting unique genres.    \n",
    "all_genres = pd.unique(genres_string.split('|'))\n",
    "\n",
    "#Cleaning all genres list.\n",
    "all_genres = list(all_genres)\n",
    "all_genres.remove('nan')\n",
    "all_genres.remove('')\n",
    "all_genres"
   ]
  },
  {
   "cell_type": "code",
   "execution_count": 16,
   "metadata": {},
   "outputs": [],
   "source": [
    "# Creating boolean coloums for all available gneres.\n",
    "\n",
    "#for all available genres \n",
    "for index_genre, genre_name in enumerate(all_genres):\n",
    "#     printing loop progress\n",
    "#     print(index_genre)\n",
    "\n",
    "    #coloum creation for said genre and setting boolean as false for all movie records\n",
    "    df[genre_name] = 0\n",
    "    \n",
    "    #for all movie records\n",
    "    for df_index, genres_movies in enumerate(df['genres']):\n",
    "        #checking whether current movie is attributed with said genre.\n",
    "        if genre_name in genres_movies:\n",
    "            #setting boolean as true if yes\n",
    "             df.iloc[df_index,df.columns.get_loc(genre_name)] = 1\n",
    "\n",
    "#Removing redundant 'genres' coloum\n",
    "df.drop(['genres'], axis='columns', inplace=True)"
   ]
  },
  {
   "cell_type": "code",
   "execution_count": 17,
   "metadata": {},
   "outputs": [],
   "source": [
    "#Filtering out redundant attributes\n",
    "df = df.loc[:,['id','imdb_id','original_title','popularity','director','runtime','production_companies','release_date','vote_count','vote_average','release_year','budget_adj','revenue_adj','Action','Adventure','Science Fiction','Thriller','Fantasy','Crime','Western','Drama','Family','Animation','Comedy','Mystery','Romance','War','History','Music','Horror','Documentary','TV Movie','Foreign']]"
   ]
  },
  {
   "cell_type": "code",
   "execution_count": 18,
   "metadata": {},
   "outputs": [],
   "source": [
    "#Sorting the dataframe coronologically\n",
    "df.sort_values(by=['release_year','release_date'], inplace=True)\n"
   ]
  },
  {
   "cell_type": "markdown",
   "metadata": {},
   "source": [
    "<a id='eda'></a>\n",
    "## Exploratory Data Analysis\n"
   ]
  },
  {
   "cell_type": "code",
   "execution_count": 19,
   "metadata": {},
   "outputs": [],
   "source": [
    "def plot_descriptions(plt, xlab, ylab, title):\n",
    "        \n",
    "    \"\"\"\n",
    "    Setting plot decorators\n",
    "\n",
    "    plt : matplotlib.pyplot\n",
    "    xlab : the x axis label\n",
    "    ylab : the y axis label\n",
    "    title ; the title label\n",
    "    \"\"\"\n",
    "    \n",
    "    plt.xlabel(xlab)\n",
    "    plt.ylabel(ylab)\n",
    "    plt.title(title)\n",
    "    plt.show()\n"
   ]
  },
  {
   "cell_type": "markdown",
   "metadata": {},
   "source": [
    "\n",
    "### Research Question 1 : What are the characteristics which define the success of a movie?"
   ]
  },
  {
   "cell_type": "markdown",
   "metadata": {},
   "source": [
    "Investigating the measure of center for various variable of the dataframe and their coorelation with each other to understand what can define the success of a movie."
   ]
  },
  {
   "cell_type": "code",
   "execution_count": 20,
   "metadata": {},
   "outputs": [
    {
     "data": {
      "text/plain": [
       "51369001.758842617"
      ]
     },
     "execution_count": 20,
     "metadata": {},
     "output_type": "execute_result"
    }
   ],
   "source": [
    "df['revenue_adj'].mean()"
   ]
  },
  {
   "cell_type": "code",
   "execution_count": 21,
   "metadata": {},
   "outputs": [
    {
     "data": {
      "text/plain": [
       "0.0"
      ]
     },
     "execution_count": 21,
     "metadata": {},
     "output_type": "execute_result"
    }
   ],
   "source": [
    "df['revenue_adj'].median()"
   ]
  },
  {
   "cell_type": "code",
   "execution_count": 22,
   "metadata": {},
   "outputs": [
    {
     "data": {
      "text/plain": [
       "0    0.0\n",
       "dtype: float64"
      ]
     },
     "execution_count": 22,
     "metadata": {},
     "output_type": "execute_result"
    }
   ],
   "source": [
    "df['revenue_adj'].mode()"
   ]
  },
  {
   "cell_type": "code",
   "execution_count": 23,
   "metadata": {},
   "outputs": [
    {
     "data": {
      "text/plain": [
       "2827123750.41189"
      ]
     },
     "execution_count": 23,
     "metadata": {},
     "output_type": "execute_result"
    }
   ],
   "source": [
    "df['revenue_adj'].max()"
   ]
  },
  {
   "cell_type": "code",
   "execution_count": 24,
   "metadata": {},
   "outputs": [
    {
     "data": {
      "text/plain": [
       "0.0"
      ]
     },
     "execution_count": 24,
     "metadata": {},
     "output_type": "execute_result"
    }
   ],
   "source": [
    "df['revenue_adj'].min()"
   ]
  },
  {
   "cell_type": "code",
   "execution_count": 25,
   "metadata": {},
   "outputs": [
    {
     "data": {
      "text/plain": [
       "33701729.0094642"
      ]
     },
     "execution_count": 25,
     "metadata": {},
     "output_type": "execute_result"
    }
   ],
   "source": [
    "df.revenue_adj.quantile(0.75)"
   ]
  },
  {
   "cell_type": "code",
   "execution_count": 26,
   "metadata": {},
   "outputs": [
    {
     "data": {
      "text/plain": [
       "148408632.6877665"
      ]
     },
     "execution_count": 26,
     "metadata": {},
     "output_type": "execute_result"
    }
   ],
   "source": [
    "df.revenue_adj.quantile(0.9)"
   ]
  },
  {
   "cell_type": "code",
   "execution_count": 27,
   "metadata": {},
   "outputs": [
    {
     "data": {
      "text/plain": [
       "0.64644555490105826"
      ]
     },
     "execution_count": 27,
     "metadata": {},
     "output_type": "execute_result"
    }
   ],
   "source": [
    "df['popularity'].mean()"
   ]
  },
  {
   "cell_type": "code",
   "execution_count": 28,
   "metadata": {},
   "outputs": [
    {
     "data": {
      "text/plain": [
       "0.38383099999999998"
      ]
     },
     "execution_count": 28,
     "metadata": {},
     "output_type": "execute_result"
    }
   ],
   "source": [
    "df['popularity'].median()"
   ]
  },
  {
   "cell_type": "code",
   "execution_count": 29,
   "metadata": {},
   "outputs": [
    {
     "data": {
      "text/plain": [
       "0     0.011798\n",
       "1     0.021121\n",
       "2     0.028143\n",
       "3     0.044913\n",
       "4     0.060425\n",
       "5     0.065543\n",
       "6     0.071830\n",
       "7     0.078482\n",
       "8     0.083178\n",
       "9     0.090552\n",
       "10    0.109305\n",
       "11    0.111351\n",
       "12    0.114027\n",
       "13    0.122543\n",
       "14    0.126182\n",
       "15    0.126283\n",
       "16    0.138861\n",
       "17    0.143953\n",
       "18    0.144297\n",
       "19    0.150035\n",
       "20    0.155519\n",
       "21    0.158021\n",
       "22    0.186995\n",
       "23    0.187319\n",
       "24    0.210766\n",
       "25    0.210808\n",
       "26    0.211695\n",
       "27    0.214587\n",
       "28    0.223151\n",
       "29    0.227220\n",
       "30    0.227580\n",
       "31    0.247926\n",
       "32    0.255458\n",
       "33    0.265119\n",
       "34    0.272995\n",
       "35    0.275803\n",
       "36    0.292536\n",
       "37    0.317301\n",
       "38    0.326556\n",
       "39    0.340804\n",
       "40    0.358694\n",
       "41    0.363923\n",
       "42    0.410235\n",
       "43    0.430191\n",
       "44    0.468552\n",
       "45    0.506241\n",
       "46    0.557155\n",
       "47    0.623706\n",
       "48    0.701814\n",
       "49    0.984256\n",
       "50    1.107689\n",
       "dtype: float64"
      ]
     },
     "execution_count": 29,
     "metadata": {},
     "output_type": "execute_result"
    }
   ],
   "source": [
    "df['popularity'].mode()"
   ]
  },
  {
   "cell_type": "code",
   "execution_count": 30,
   "metadata": {},
   "outputs": [
    {
     "data": {
      "text/plain": [
       "32.985762999999999"
      ]
     },
     "execution_count": 30,
     "metadata": {},
     "output_type": "execute_result"
    }
   ],
   "source": [
    "df['popularity'].max()"
   ]
  },
  {
   "cell_type": "code",
   "execution_count": 31,
   "metadata": {},
   "outputs": [
    {
     "data": {
      "text/plain": [
       "6.5000000000000008e-05"
      ]
     },
     "execution_count": 31,
     "metadata": {},
     "output_type": "execute_result"
    }
   ],
   "source": [
    "df['popularity'].min()"
   ]
  },
  {
   "cell_type": "code",
   "execution_count": 32,
   "metadata": {},
   "outputs": [
    {
     "data": {
      "text/plain": [
       "0.713857"
      ]
     },
     "execution_count": 32,
     "metadata": {},
     "output_type": "execute_result"
    }
   ],
   "source": [
    "df.popularity.quantile(0.75)"
   ]
  },
  {
   "cell_type": "code",
   "execution_count": 33,
   "metadata": {},
   "outputs": [
    {
     "data": {
      "text/plain": [
       "1.3507702000000004"
      ]
     },
     "execution_count": 33,
     "metadata": {},
     "output_type": "execute_result"
    }
   ],
   "source": [
    "df.popularity.quantile(0.9)"
   ]
  },
  {
   "cell_type": "code",
   "execution_count": 34,
   "metadata": {},
   "outputs": [],
   "source": [
    "df['vote'] = df['vote_average']/df['vote_count']"
   ]
  },
  {
   "cell_type": "code",
   "execution_count": 35,
   "metadata": {},
   "outputs": [
    {
     "data": {
      "text/plain": [
       "(0.20388162275324426, 0.15217391304347827, 0    0.5\n",
       " dtype: float64, 0.85999999999999999, 0.00080884611446708306)"
      ]
     },
     "execution_count": 35,
     "metadata": {},
     "output_type": "execute_result"
    }
   ],
   "source": [
    "df['vote'].mean(), df['vote'].median(), df['vote'].mode(), df['vote'].max(), df['vote'].min()"
   ]
  },
  {
   "cell_type": "code",
   "execution_count": 36,
   "metadata": {},
   "outputs": [
    {
     "data": {
      "text/plain": [
       "(0.3333333333333333, 0.48333333333333334)"
      ]
     },
     "execution_count": 36,
     "metadata": {},
     "output_type": "execute_result"
    }
   ],
   "source": [
    "df['vote'].quantile(0.75), df['vote'].quantile(.9)"
   ]
  },
  {
   "cell_type": "code",
   "execution_count": 37,
   "metadata": {
    "scrolled": true
   },
   "outputs": [
    {
     "data": {
      "image/png": "[encoded data removed]",
      "text/plain": [
       "<matplotlib.figure.Figure at 0x7fd5fc5643c8>"
      ]
     },
     "metadata": {
      "needs_background": "light"
     },
     "output_type": "display_data"
    }
   ],
   "source": [
    "# Visualizing the measure of Centre.\n",
    "df[['revenue_adj','popularity']].hist(figsize=(15,5));"
   ]
  },
  {
   "cell_type": "markdown",
   "metadata": {},
   "source": [
    "Although the range for popularity and revenue provided from the data set is large,\n",
    "the successful movies form a significantly low percentage of the data set.\n",
    "The 3rd quantile will be used as filter to extract the successful movies from the whole data drame."
   ]
  },
  {
   "cell_type": "markdown",
   "metadata": {},
   "source": [
    "#### Correlation"
   ]
  },
  {
   "cell_type": "code",
   "execution_count": 38,
   "metadata": {},
   "outputs": [
    {
     "data": {
      "text/html": [
       "<div>\n",
       "<style scoped>\n",
       "    .dataframe tbody tr th:only-of-type {\n",
       "        vertical-align: middle;\n",
       "    }\n",
       "\n",
       "    .dataframe tbody tr th {\n",
       "        vertical-align: top;\n",
       "    }\n",
       "\n",
       "    .dataframe thead th {\n",
       "        text-align: right;\n",
       "    }\n",
       "</style>\n",
       "<table border=\"1\" class=\"dataframe\">\n",
       "  <thead>\n",
       "    <tr style=\"text-align: right;\">\n",
       "      <th></th>\n",
       "      <th>revenue_adj</th>\n",
       "      <th>popularity</th>\n",
       "      <th>vote</th>\n",
       "      <th>budget_adj</th>\n",
       "      <th>runtime</th>\n",
       "    </tr>\n",
       "  </thead>\n",
       "  <tbody>\n",
       "    <tr>\n",
       "      <th>revenue_adj</th>\n",
       "      <td>1.000000</td>\n",
       "      <td>0.609085</td>\n",
       "      <td>-0.338955</td>\n",
       "      <td>0.646627</td>\n",
       "      <td>0.175668</td>\n",
       "    </tr>\n",
       "    <tr>\n",
       "      <th>popularity</th>\n",
       "      <td>0.609085</td>\n",
       "      <td>1.000000</td>\n",
       "      <td>-0.409430</td>\n",
       "      <td>0.513555</td>\n",
       "      <td>0.139032</td>\n",
       "    </tr>\n",
       "    <tr>\n",
       "      <th>vote</th>\n",
       "      <td>-0.338955</td>\n",
       "      <td>-0.409430</td>\n",
       "      <td>1.000000</td>\n",
       "      <td>-0.418255</td>\n",
       "      <td>-0.093913</td>\n",
       "    </tr>\n",
       "    <tr>\n",
       "      <th>budget_adj</th>\n",
       "      <td>0.646627</td>\n",
       "      <td>0.513555</td>\n",
       "      <td>-0.418255</td>\n",
       "      <td>1.000000</td>\n",
       "      <td>0.221127</td>\n",
       "    </tr>\n",
       "    <tr>\n",
       "      <th>runtime</th>\n",
       "      <td>0.175668</td>\n",
       "      <td>0.139032</td>\n",
       "      <td>-0.093913</td>\n",
       "      <td>0.221127</td>\n",
       "      <td>1.000000</td>\n",
       "    </tr>\n",
       "  </tbody>\n",
       "</table>\n",
       "</div>"
      ],
      "text/plain": [
       "             revenue_adj  popularity      vote  budget_adj   runtime\n",
       "revenue_adj     1.000000    0.609085 -0.338955    0.646627  0.175668\n",
       "popularity      0.609085    1.000000 -0.409430    0.513555  0.139032\n",
       "vote           -0.338955   -0.409430  1.000000   -0.418255 -0.093913\n",
       "budget_adj      0.646627    0.513555 -0.418255    1.000000  0.221127\n",
       "runtime         0.175668    0.139032 -0.093913    0.221127  1.000000"
      ]
     },
     "execution_count": 38,
     "metadata": {},
     "output_type": "execute_result"
    }
   ],
   "source": [
    " df[['revenue_adj','popularity','vote','budget_adj','runtime']].corr()"
   ]
  },
  {
   "cell_type": "markdown",
   "metadata": {},
   "source": [
    "<ul>\n",
    "<li> Revenue_adj, popularity and budget are somewhat correlated with each other. </li>\n",
    "<li> Vote and runtime show insufficient correlation. </li>\n",
    "</ul>"
   ]
  },
  {
   "cell_type": "markdown",
   "metadata": {},
   "source": [
    "#### Assumption: \n",
    "<ul>\n",
    "<li> Revenue_adj and popularity defines the success of a movie. </li>\n",
    "<li> The top 25 percentile seems to describes the successful movies. </li>\n",
    "</ul>\n",
    "\n",
    "\n"
   ]
  },
  {
   "cell_type": "code",
   "execution_count": 39,
   "metadata": {},
   "outputs": [],
   "source": [
    "#Filtering out successful movies based on 75th quantile.\n",
    "successful_movies = df.loc[(df['revenue_adj']>=df.revenue_adj.quantile(0.75)) & (df['popularity']>=df.popularity.quantile(0.75))]\n"
   ]
  },
  {
   "cell_type": "code",
   "execution_count": 40,
   "metadata": {},
   "outputs": [
    {
     "data": {
      "text/html": [
       "<div>\n",
       "<style scoped>\n",
       "    .dataframe tbody tr th:only-of-type {\n",
       "        vertical-align: middle;\n",
       "    }\n",
       "\n",
       "    .dataframe tbody tr th {\n",
       "        vertical-align: top;\n",
       "    }\n",
       "\n",
       "    .dataframe thead th {\n",
       "        text-align: right;\n",
       "    }\n",
       "</style>\n",
       "<table border=\"1\" class=\"dataframe\">\n",
       "  <thead>\n",
       "    <tr style=\"text-align: right;\">\n",
       "      <th></th>\n",
       "      <th>id</th>\n",
       "      <th>imdb_id</th>\n",
       "      <th>original_title</th>\n",
       "      <th>popularity</th>\n",
       "      <th>director</th>\n",
       "      <th>runtime</th>\n",
       "      <th>production_companies</th>\n",
       "      <th>release_date</th>\n",
       "      <th>vote_count</th>\n",
       "      <th>vote_average</th>\n",
       "      <th>...</th>\n",
       "      <th>Mystery</th>\n",
       "      <th>Romance</th>\n",
       "      <th>War</th>\n",
       "      <th>History</th>\n",
       "      <th>Music</th>\n",
       "      <th>Horror</th>\n",
       "      <th>Documentary</th>\n",
       "      <th>TV Movie</th>\n",
       "      <th>Foreign</th>\n",
       "      <th>vote</th>\n",
       "    </tr>\n",
       "  </thead>\n",
       "  <tbody>\n",
       "    <tr>\n",
       "      <th>10142</th>\n",
       "      <td>966</td>\n",
       "      <td>tt0054047</td>\n",
       "      <td>The Magnificent Seven</td>\n",
       "      <td>1.872132</td>\n",
       "      <td>John Sturges</td>\n",
       "      <td>128</td>\n",
       "      <td>The Mirisch Corporation|Alpha Productions</td>\n",
       "      <td>10/23/60</td>\n",
       "      <td>224</td>\n",
       "      <td>7.0</td>\n",
       "      <td>...</td>\n",
       "      <td>0</td>\n",
       "      <td>0</td>\n",
       "      <td>0</td>\n",
       "      <td>0</td>\n",
       "      <td>0</td>\n",
       "      <td>0</td>\n",
       "      <td>0</td>\n",
       "      <td>0</td>\n",
       "      <td>0</td>\n",
       "      <td>0.03125</td>\n",
       "    </tr>\n",
       "  </tbody>\n",
       "</table>\n",
       "<p>1 rows × 34 columns</p>\n",
       "</div>"
      ],
      "text/plain": [
       "        id    imdb_id         original_title  popularity      director  \\\n",
       "10142  966  tt0054047  The Magnificent Seven    1.872132  John Sturges   \n",
       "\n",
       "       runtime                       production_companies release_date  \\\n",
       "10142      128  The Mirisch Corporation|Alpha Productions     10/23/60   \n",
       "\n",
       "       vote_count  vote_average   ...     Mystery  Romance  War  History  \\\n",
       "10142         224           7.0   ...           0        0    0        0   \n",
       "\n",
       "       Music  Horror  Documentary  TV Movie  Foreign     vote  \n",
       "10142      0       0            0         0        0  0.03125  \n",
       "\n",
       "[1 rows x 34 columns]"
      ]
     },
     "execution_count": 40,
     "metadata": {},
     "output_type": "execute_result"
    }
   ],
   "source": [
    "successful_movies.head(1)"
   ]
  },
  {
   "cell_type": "markdown",
   "metadata": {},
   "source": [
    "The potential categorical factors contributing to the success of a movie are: genre, director, production company."
   ]
  },
  {
   "cell_type": "code",
   "execution_count": 41,
   "metadata": {},
   "outputs": [
    {
     "data": {
      "text/html": [
       "<div>\n",
       "<style scoped>\n",
       "    .dataframe tbody tr th:only-of-type {\n",
       "        vertical-align: middle;\n",
       "    }\n",
       "\n",
       "    .dataframe tbody tr th {\n",
       "        vertical-align: top;\n",
       "    }\n",
       "\n",
       "    .dataframe thead th {\n",
       "        text-align: right;\n",
       "    }\n",
       "</style>\n",
       "<table border=\"1\" class=\"dataframe\">\n",
       "  <thead>\n",
       "    <tr style=\"text-align: right;\">\n",
       "      <th></th>\n",
       "      <th>Action</th>\n",
       "      <th>Adventure</th>\n",
       "      <th>Science Fiction</th>\n",
       "      <th>Thriller</th>\n",
       "      <th>Fantasy</th>\n",
       "      <th>Crime</th>\n",
       "      <th>Western</th>\n",
       "      <th>Drama</th>\n",
       "      <th>Family</th>\n",
       "      <th>Animation</th>\n",
       "      <th>Comedy</th>\n",
       "      <th>Mystery</th>\n",
       "      <th>Romance</th>\n",
       "      <th>War</th>\n",
       "      <th>History</th>\n",
       "      <th>Music</th>\n",
       "      <th>Horror</th>\n",
       "      <th>Documentary</th>\n",
       "      <th>TV Movie</th>\n",
       "      <th>Foreign</th>\n",
       "    </tr>\n",
       "  </thead>\n",
       "  <tbody>\n",
       "    <tr>\n",
       "      <th>10142</th>\n",
       "      <td>1</td>\n",
       "      <td>1</td>\n",
       "      <td>0</td>\n",
       "      <td>0</td>\n",
       "      <td>0</td>\n",
       "      <td>0</td>\n",
       "      <td>1</td>\n",
       "      <td>0</td>\n",
       "      <td>0</td>\n",
       "      <td>0</td>\n",
       "      <td>0</td>\n",
       "      <td>0</td>\n",
       "      <td>0</td>\n",
       "      <td>0</td>\n",
       "      <td>0</td>\n",
       "      <td>0</td>\n",
       "      <td>0</td>\n",
       "      <td>0</td>\n",
       "      <td>0</td>\n",
       "      <td>0</td>\n",
       "    </tr>\n",
       "  </tbody>\n",
       "</table>\n",
       "</div>"
      ],
      "text/plain": [
       "       Action  Adventure  Science Fiction  Thriller  Fantasy  Crime  Western  \\\n",
       "10142       1          1                0         0        0      0        1   \n",
       "\n",
       "       Drama  Family  Animation  Comedy  Mystery  Romance  War  History  \\\n",
       "10142      0       0          0       0        0        0    0        0   \n",
       "\n",
       "       Music  Horror  Documentary  TV Movie  Foreign  \n",
       "10142      0       0            0         0        0  "
      ]
     },
     "execution_count": 41,
     "metadata": {},
     "output_type": "execute_result"
    }
   ],
   "source": [
    "# genre\n",
    "\n",
    "#Extracting relevent genre coloums from dataframe\n",
    "successful_movies_genres = successful_movies.loc[:,['Action','Adventure','Science Fiction','Thriller','Fantasy','Crime','Western','Drama','Family','Animation','Comedy','Mystery','Romance','War','History','Music','Horror','Documentary','TV Movie','Foreign']]\n",
    "successful_movies_genres.head(1)"
   ]
  },
  {
   "cell_type": "markdown",
   "metadata": {},
   "source": [
    "successful genres are informed by the number of successful movies attributed to each genre."
   ]
  },
  {
   "cell_type": "code",
   "execution_count": 42,
   "metadata": {},
   "outputs": [
    {
     "data": {
      "image/png": "[encoded data removed]",
      "text/plain": [
       "<matplotlib.figure.Figure at 0x7fd5d52c1a90>"
      ]
     },
     "metadata": {
      "needs_background": "light"
     },
     "output_type": "display_data"
    }
   ],
   "source": [
    "#Plotting the count of successful movies per genre.\n",
    "successful_movies_genres.sum().plot(kind='bar', figsize= (10,5));\n",
    "plot_descriptions(plt, 'Genres','Count Of Movies','Genres Associated With Successful Movies')\n"
   ]
  },
  {
   "cell_type": "markdown",
   "metadata": {},
   "source": [
    "Action, Adventure, Thriller, Drama and Comedy are the genres with almost double the number of successful movies as compared to other genres."
   ]
  },
  {
   "cell_type": "code",
   "execution_count": 43,
   "metadata": {},
   "outputs": [
    {
     "data": {
      "text/plain": [
       "Adventure    493\n",
       "Thriller     578\n",
       "Action       625\n",
       "Comedy       646\n",
       "Drama        665\n",
       "dtype: int64"
      ]
     },
     "execution_count": 43,
     "metadata": {},
     "output_type": "execute_result"
    }
   ],
   "source": [
    "#top 5 Genres\n",
    "successful_movies_genres.sum().sort_values()[-5:]"
   ]
  },
  {
   "cell_type": "code",
   "execution_count": 44,
   "metadata": {},
   "outputs": [],
   "source": [
    "#directors\n",
    "\n",
    "#Extracting the movie records of most recent directors.\n",
    "successful_directors_recent = successful_movies.loc[successful_movies['release_year']>=2005]\n",
    "#Extracting the top ten directors with the amount of movies produced.\n",
    "successful_directors = successful_directors_recent['director'].value_counts().head(10)\n",
    "\n",
    "\n"
   ]
  },
  {
   "cell_type": "markdown",
   "metadata": {},
   "source": [
    "The data after year 2015 was used to filter out the most recent directors and their coresponding movies in order to only select directors which are still present. This will provide us with helping insights while selecting a director if we are producing a movie."
   ]
  },
  {
   "cell_type": "code",
   "execution_count": 45,
   "metadata": {},
   "outputs": [
    {
     "data": {
      "image/png": "[encoded data removed]",
      "text/plain": [
       "<matplotlib.figure.Figure at 0x7fd5d523f860>"
      ]
     },
     "metadata": {
      "needs_background": "light"
     },
     "output_type": "display_data"
    }
   ],
   "source": [
    "\n",
    "#Plotting\n",
    "successful_directors.plot(kind='bar', figsize= (10,5));\n",
    "plot_descriptions(plt, 'Directors','Count Of Movies','Directors Associated With Successful Movies')"
   ]
  },
  {
   "cell_type": "markdown",
   "metadata": {},
   "source": [
    "The top ten directors with the most number of successful movies have been displayed."
   ]
  },
  {
   "cell_type": "code",
   "execution_count": 46,
   "metadata": {},
   "outputs": [
    {
     "data": {
      "text/plain": [
       "Index(['Ridley Scott', 'Clint Eastwood', 'Steven Spielberg', 'Michael Bay',\n",
       "       'Christopher Nolan', 'Ron Howard', 'Shawn Levy', 'Dennis Dugan',\n",
       "       'Bobby Farrelly|Peter Farrelly', 'Louis Leterrier'],\n",
       "      dtype='object')"
      ]
     },
     "execution_count": 46,
     "metadata": {},
     "output_type": "execute_result"
    }
   ],
   "source": [
    "# Top directors\n",
    "successful_directors.index"
   ]
  },
  {
   "cell_type": "code",
   "execution_count": 47,
   "metadata": {},
   "outputs": [],
   "source": [
    "#Production Companies\n",
    "\n",
    "#Creating a series with all the production companies with in the successful movies dataframe along with their count.\n",
    "production_companies_value_count = pd.Series(successful_movies['production_companies'].str.cat(sep='|').split('|')).value_counts()\n",
    "#Selecting top ten production companies.\n",
    "successful_production_companies = production_companies_value_count.head(10)"
   ]
  },
  {
   "cell_type": "markdown",
   "metadata": {},
   "source": [
    "The production companines with the most number of successful movies were filtered out as the best."
   ]
  },
  {
   "cell_type": "code",
   "execution_count": 48,
   "metadata": {},
   "outputs": [
    {
     "data": {
      "image/png": "[encoded data removed]",
      "text/plain": [
       "<matplotlib.figure.Figure at 0x7fd5d518a6a0>"
      ]
     },
     "metadata": {
      "needs_background": "light"
     },
     "output_type": "display_data"
    }
   ],
   "source": [
    "#Plotting\n",
    "successful_production_companies.plot(kind='barh', figsize= (10,5));\n",
    "plot_descriptions(plt,'Count Of Successful Movies','Production Company','Production Company Associated With Successful Movies')"
   ]
  },
  {
   "cell_type": "markdown",
   "metadata": {},
   "source": [
    "The top ten production companies with the most number of successful movies have been displayed."
   ]
  },
  {
   "cell_type": "code",
   "execution_count": 49,
   "metadata": {},
   "outputs": [
    {
     "data": {
      "text/plain": [
       "Index(['Warner Bros.', 'Universal Pictures', 'Paramount Pictures',\n",
       "       'Twentieth Century Fox Film Corporation', 'Columbia Pictures',\n",
       "       'New Line Cinema', 'Walt Disney Pictures', 'Relativity Media',\n",
       "       'Metro-Goldwyn-Mayer (MGM)', 'DreamWorks SKG'],\n",
       "      dtype='object')"
      ]
     },
     "execution_count": 49,
     "metadata": {},
     "output_type": "execute_result"
    }
   ],
   "source": [
    "#Top ten Production Companies\n",
    "successful_production_companies.index"
   ]
  },
  {
   "cell_type": "markdown",
   "metadata": {},
   "source": [
    "\n",
    "\n",
    "### Research Question 2: Names of most successful movies?"
   ]
  },
  {
   "cell_type": "code",
   "execution_count": 50,
   "metadata": {},
   "outputs": [
    {
     "data": {
      "image/png": "[encoded data removed]",
      "text/plain": [
       "<matplotlib.figure.Figure at 0x7fd5d518ac88>"
      ]
     },
     "metadata": {
      "needs_background": "light"
     },
     "output_type": "display_data"
    }
   ],
   "source": [
    "#Successful movies\n",
    "\n",
    "#Sorting the successful movies based on popularity and revenue.\n",
    "top_ten = successful_movies.sort_values(['popularity','revenue_adj'])[['original_title','revenue_adj']].head(10)\n",
    "#Resetting the index\n",
    "top_ten.index = top_ten.original_title\n",
    "#Dataframe to Series conversion with relevent coloum.\n",
    "top_ten = top_ten.drop('original_title', axis=1).squeeze()\n",
    "#Plotting\n",
    "top_ten.plot(kind='barh', figsize= (10,5));\n",
    "plot_descriptions(plt,'Revenue','Movie Name','Top Movie And Their Revenues')"
   ]
  },
  {
   "cell_type": "markdown",
   "metadata": {},
   "source": [
    "Popularity and revenue were used to filter out the top 10 movies in the dataset."
   ]
  },
  {
   "cell_type": "markdown",
   "metadata": {},
   "source": [
    "### Research Question 2: How has the budget trend changed over time in the creation of successful movies ?"
   ]
  },
  {
   "cell_type": "code",
   "execution_count": 51,
   "metadata": {},
   "outputs": [
    {
     "data": {
      "image/png": "[encoded data removed]",
      "text/plain": [
       "<matplotlib.figure.Figure at 0x7fd5d51a1198>"
      ]
     },
     "metadata": {
      "needs_background": "light"
     },
     "output_type": "display_data"
    }
   ],
   "source": [
    "# Budget trent\n",
    "\n",
    "#Filtering yearly mean budget.\n",
    "successful_budget_year = successful_movies.groupby('release_year')['budget_adj'].mean()\n",
    "#PLotting\n",
    "successful_budget_year.plot(figsize=(15,5));\n",
    "plot_descriptions(plt,'Release Year','Avergae Budget ($)','Average Budget needed to produce a successful movie')"
   ]
  },
  {
   "cell_type": "markdown",
   "metadata": {},
   "source": [
    "The time-series trend for the mean budget associated with successful movies per year is being shown."
   ]
  },
  {
   "cell_type": "markdown",
   "metadata": {},
   "source": [
    "\n",
    "### Research Question 3: How is the voting participaction from viewers changed over the years  ?"
   ]
  },
  {
   "cell_type": "code",
   "execution_count": 52,
   "metadata": {},
   "outputs": [
    {
     "data": {
      "text/plain": [
       "564"
      ]
     },
     "execution_count": 52,
     "metadata": {},
     "output_type": "execute_result"
    }
   ],
   "source": [
    "df[df['vote_count']>=1000]['vote_count'].count()"
   ]
  },
  {
   "cell_type": "code",
   "execution_count": 53,
   "metadata": {},
   "outputs": [
    {
     "data": {
      "text/plain": [
       "9767"
      ]
     },
     "execution_count": 53,
     "metadata": {},
     "output_type": "execute_result"
    }
   ],
   "source": [
    "df['vote_count'].max()"
   ]
  },
  {
   "cell_type": "code",
   "execution_count": 54,
   "metadata": {},
   "outputs": [
    {
     "data": {
      "text/plain": [
       "10"
      ]
     },
     "execution_count": 54,
     "metadata": {},
     "output_type": "execute_result"
    }
   ],
   "source": [
    "df['vote_count'].min()"
   ]
  },
  {
   "cell_type": "code",
   "execution_count": 55,
   "metadata": {},
   "outputs": [
    {
     "data": {
      "text/plain": [
       "217.39963184537507"
      ]
     },
     "execution_count": 55,
     "metadata": {},
     "output_type": "execute_result"
    }
   ],
   "source": [
    "df['vote_count'].mean()"
   ]
  },
  {
   "cell_type": "code",
   "execution_count": 56,
   "metadata": {},
   "outputs": [
    {
     "data": {
      "text/plain": [
       "146.0"
      ]
     },
     "execution_count": 56,
     "metadata": {},
     "output_type": "execute_result"
    }
   ],
   "source": [
    "df.vote_count.quantile(0.75)"
   ]
  },
  {
   "cell_type": "code",
   "execution_count": 57,
   "metadata": {},
   "outputs": [
    {
     "data": {
      "image/png": "[encoded data removed]",
      "text/plain": [
       "<matplotlib.figure.Figure at 0x7fd5d5818588>"
      ]
     },
     "metadata": {
      "needs_background": "light"
     },
     "output_type": "display_data"
    }
   ],
   "source": [
    "# Vote\n",
    "\n",
    "#Filtering sum of vote count per year. \n",
    "vote_count_year = df.groupby('release_year')['vote_count'].sum()\n",
    "#PLotting\n",
    "vote_count_year.plot(figsize=(15,5));\n",
    "plot_descriptions(plt,'Release Year','Vote Count','Voting participation Trend')"
   ]
  },
  {
   "cell_type": "markdown",
   "metadata": {},
   "source": [
    "The time-series trend showing the number of votes casted for successful movies per year is being shown."
   ]
  },
  {
   "cell_type": "code",
   "execution_count": 58,
   "metadata": {},
   "outputs": [
    {
     "data": {
      "text/plain": [
       "release_year\n",
       "2013    214486\n",
       "Name: vote_count, dtype: int64"
      ]
     },
     "execution_count": 58,
     "metadata": {},
     "output_type": "execute_result"
    }
   ],
   "source": [
    "# Conclusion: \n",
    "vote_count_year[vote_count_year==vote_count_year.max()]"
   ]
  },
  {
   "cell_type": "markdown",
   "metadata": {},
   "source": [
    "\n",
    "### Research Question 4: Which year has the highest release of movies?"
   ]
  },
  {
   "cell_type": "code",
   "execution_count": 59,
   "metadata": {},
   "outputs": [
    {
     "data": {
      "image/png": "[encoded data removed]",
      "text/plain": [
       "<matplotlib.figure.Figure at 0x7fd5d5265f60>"
      ]
     },
     "metadata": {
      "needs_background": "light"
     },
     "output_type": "display_data"
    }
   ],
   "source": [
    "\n",
    "movie_count_year = df.groupby('release_year')['release_year'].count()\n",
    "\n",
    "movie_count_year.plot(figsize=(15,5));\n",
    "plot_descriptions(plt,'Release Year','Number of movies released','Year with highest release')\n"
   ]
  },
  {
   "cell_type": "markdown",
   "metadata": {},
   "source": [
    "The time-series trend for the number of successfull movies released per year is being shown."
   ]
  },
  {
   "cell_type": "code",
   "execution_count": 60,
   "metadata": {},
   "outputs": [
    {
     "data": {
      "text/plain": [
       "release_year\n",
       "2014    700\n",
       "Name: release_year, dtype: int64"
      ]
     },
     "execution_count": 60,
     "metadata": {},
     "output_type": "execute_result"
    }
   ],
   "source": [
    " movie_count_year[movie_count_year == max(movie_count_year)]"
   ]
  },
  {
   "cell_type": "markdown",
   "metadata": {},
   "source": [
    "<a id='conclusions'></a>\n",
    "## Conclusions\n",
    "\n",
    "<ul>\n",
    "<li>It was observed that the succesfull movies shared the following properties:\n",
    "    <ul>\n",
    "    <li>They were one of these five genres: Adventure, Thriller, Action,Comedy, Drama. </li>\n",
    "   <li> They were directed by one of these ten directors: Ridley Scott,Steven Spielberg, Clint Eastwood,Shawn Levy, Michael Bay  Christopher Nolan, Ron Howard, Dennis Dugan, Peter Jackson, Francis Lawrence.</li>\n",
    "    <li>They were produced by one of these ten production companies:\n",
    "    Warner Bros, Universal Pictures, Paramount Pictures,\n",
    "       Twentieth Century Fox Film Corporation, Columbia Pictures,\n",
    "       New Line Cinema, Walt Disney Pictures, Relativity Media,\n",
    "     Metro-Goldwyn-Mayer (MGM), DreamWorks SKG.</li>\n",
    "        </ul>\n",
    "\n",
    "<li>It was observed that the following are the top ten successful movies in terms of their revenue and popularity:Murder at 1600, To Rome with Love,National Lampoonâ€™s European Vacation, MASH, Fright Night, Year One, Babe: Pig in the City, Assault on Precinct 13, Flightplan, Uncle Buck.</li> \n",
    "\n",
    "<li>From the year between 1970s and 1990s a low budget was required to produce a successful movie however the trend fluctuated drastically from year to year. After the 1990s we can observe that comparatively more budget is needed to produce a successful movie and the fluctuation in this trend is limited.</li>\n",
    "\n",
    "<li> The rate of participation in voting for movies was stagnent and almost nonexistant between 1960s to 1980s. The trend, then, experienced a gradual increase till date. 2013 marked the highest voting rate with 214486 votes.</li>\n",
    "\n",
    "<li> The rate of production of movies was stagnent and low between 1960s to 1990s. The trend, then, experienced a drastic increase till date. 2014 marked the highest rate of movies produced with 700 movies.</li>\n",
    "</ul>\n",
    "\n",
    "### Limitations \n",
    "<ul>\n",
    "<li> The data for successful movies is limited, restricting analysis.</li>\n",
    "<li> The nature of some of the variable limited their relevance to the time-series analysis eg. the lifespace of directors is not taken into consideration while analysing the top ten directors. The success of any director was only informed by the number of movies they were able to direct. This is not the sole factor which should be taken into consideration while quantifying the quality of a directors work.</li>\n",
    "</ul>"
   ]
  }
 ],
 "metadata": {
  "kernelspec": {
   "display_name": "Python 3",
   "language": "python",
   "name": "python3"
  },
  "language_info": {
   "codemirror_mode": {
    "name": "ipython",
    "version": 3
   },
   "file_extension": ".py",
   "mimetype": "text/x-python",
   "name": "python",
   "nbconvert_exporter": "python",
   "pygments_lexer": "ipython3",
   "version": "3.6.3"
  }
 },
 "nbformat": 4,
 "nbformat_minor": 2
}
